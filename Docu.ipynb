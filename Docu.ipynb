{
 "cells": [
  {
   "cell_type": "markdown",
   "id": "7c3f37d9-43c1-4ece-be2e-74cc347d9731",
   "metadata": {},
   "source": [
    "# Introducción al lenguaje Go\n",
    "Go es un lenguaje de programación de código abierto desarrollado por Google. Es conocido por su simplicidad, eficiencia y soporte robusto para la concurrencia.\n"
   ]
  },
  {
   "cell_type": "markdown",
   "id": "d4b6e829-cc56-425c-822d-a9a10ccc4bce",
   "metadata": {},
   "source": [
    "## Instalación y configuración\n",
    "1. Descarga el instalador desde [golang.org](https://golang.org/dl/).\n",
    "2. Sigue las instrucciones según tu sistema operativo.\n",
    "3. Verifica la instalación ejecutando:"
   ]
  },
  {
   "cell_type": "code",
   "execution_count": null,
   "id": "76f3ee97-30c3-42a6-a1ea-7009cfa194c2",
   "metadata": {},
   "outputs": [],
   "source": [
    "go version"
   ]
  },
  {
   "cell_type": "markdown",
   "id": "cc06b18a-3d27-4124-81e4-2a815e22e014",
   "metadata": {},
   "source": [
    "## Sintaxis básica\n",
    "Aquí tienes un ejemplo de un programa básico en Go:"
   ]
  },
  {
   "cell_type": "code",
   "execution_count": null,
   "id": "10069a22-3e9f-4f88-8d9e-e7c1109f87e4",
   "metadata": {},
   "outputs": [],
   "source": [
    "go\n",
    "package main\n",
    "\n",
    "import \"fmt\"\n",
    "\n",
    "func main() {\n",
    "    fmt.Println(\"¡Hola, mundo!\")\n",
    "}"
   ]
  },
  {
   "cell_type": "markdown",
   "id": "d719eb30-f50e-434a-9cfc-51c0ea836ef3",
   "metadata": {},
   "source": [
    "## Tipos de datos y estructuras\n",
    "Go soporta los siguientes tipos de datos básicos:\n",
    "- `int`, `float64`, `string`, `bool`.\n",
    "- Arrays y slices.\n",
    "- Mapas.\n",
    "- Structs."
   ]
  },
  {
   "cell_type": "markdown",
   "id": "e85c56c6-9601-4df2-a092-47b04ee8f209",
   "metadata": {},
   "source": [
    "```go\n",
    "type Persona struct {\n",
    "    Nombre string\n",
    "    Edad   int\n",
    "}"
   ]
  },
  {
   "cell_type": "code",
   "execution_count": null,
   "id": "bdb7a96c-857a-4256-900b-db6b05e38a3c",
   "metadata": {},
   "outputs": [],
   "source": [
    "type Persona struct {\n",
    "    Nombre string\n",
    "    Edad   int\n",
    "}\n",
    "\n",
    "func main() {\n",
    "    p := Persona{Nombre: \"Eduardo\", Edad: 25}\n",
    "    fmt.Println(p)\n",
    "}"
   ]
  },
  {
   "cell_type": "markdown",
   "id": "7d2baa1c-704c-4190-8b18-ec6712052d90",
   "metadata": {},
   "source": [
    "## Control de flujo\n",
    "Go soporta estructuras como `if`, `switch`, y bucles `for`.\n",
    "\n",
    "Ejemplo:\n",
    "```go\n",
    "for i := 0; i < 5; i++ {\n",
    "    fmt.Println(i)\n",
    "}"
   ]
  },
  {
   "cell_type": "code",
   "execution_count": null,
   "id": "caa38c5a-c373-4eaa-b6de-6ef4303e23e1",
   "metadata": {},
   "outputs": [],
   "source": [
    "func main() {\n",
    "    for i := 0; i < 5; i++ {\n",
    "        fmt.Println(i)\n",
    "    }\n",
    "}"
   ]
  },
  {
   "cell_type": "markdown",
   "id": "a203773c-a4a9-48da-91f1-be6f2494f4ce",
   "metadata": {},
   "source": [
    "## Goroutines y concurrencia\n",
    "Go es famoso por su modelo de concurrencia basado en Goroutines y canales.\n",
    "\n",
    "Ejemplo:\n",
    "```go\n",
    "func imprimirMensaje(msg string) {\n",
    "    fmt.Println(msg)\n",
    "}\n",
    "\n",
    "func main() {\n",
    "    go imprimirMensaje(\"Hola desde Goroutine\")\n",
    "    imprimirMensaje(\"Hola desde la función principal\")\n",
    "}\n"
   ]
  },
  {
   "cell_type": "code",
   "execution_count": null,
   "id": "2a4a22d2-c9d6-4875-813f-670ba7f2c944",
   "metadata": {},
   "outputs": [],
   "source": [
    "func imprimirMensaje(msg string) {\n",
    "    fmt.Println(msg)\n",
    "}\n",
    "\n",
    "func main() {\n",
    "    go imprimirMensaje(\"Hola desde Goroutine\")\n",
    "    imprimirMensaje(\"Hola desde la función principal\")\n",
    "}"
   ]
  },
  {
   "cell_type": "markdown",
   "id": "afc63964-0420-455e-89fb-9ffd6485831d",
   "metadata": {},
   "source": [
    "# Fundamentos del Lenguaje Go\n",
    "\n",
    "### Declarar y usar una función:\n",
    "```go\n",
    "package main\n",
    "\n",
    "import \"fmt\"\n",
    "\n",
    "func sumar(a int, b int) int {\n",
    "    return a + b\n",
    "}\n",
    "\n",
    "func main() {\n",
    "    resultado := sumar(5, 7)\n",
    "    fmt.Println(\"La suma es:\", resultado)\n",
    "}\n",
    "\n"
   ]
  },
  {
   "cell_type": "markdown",
   "id": "5d688aa2-d944-4dcd-b0b9-dd4e1be83273",
   "metadata": {},
   "source": [
    "### Crear y ejecutar una prueba unitaria\n",
    "```go\n",
    "// archivo: mathutils/sumar_test.go\n",
    "package mathutils\n",
    "\n",
    "import \"testing\"\n",
    "\n",
    "func TestSumar(t *testing.T) {\n",
    "    resultado := Sumar(2, 3)\n",
    "    esperado := 5\n",
    "    if resultado != esperado {\n",
    "        t.Errorf(\"Resultado %d; se esperaba %d\", resultado, esperado)\n",
    "    }\n",
    "}"
   ]
  },
  {
   "cell_type": "code",
   "execution_count": null,
   "id": "f57562f3-3810-4cba-b4e7-daaa8b84f6ee",
   "metadata": {},
   "outputs": [],
   "source": [
    "go test ./..."
   ]
  },
  {
   "cell_type": "markdown",
   "id": "e4e133bd-a35e-495e-8d4b-b638a205d837",
   "metadata": {},
   "source": [
    "\n",
    "---\n",
    "\n",
    "# Manejo de Errores en Go\n",
    "\n",
    "### Usar el tipo `error`:\n",
    "```go\n",
    "package main\n",
    "\n",
    "import (\n",
    "    \"errors\"\n",
    "    \"fmt\"\n",
    ")\n",
    "\n",
    "func dividir(a, b int) (int, error) {\n",
    "    if b == 0 {\n",
    "        return 0, errors.New(\"no se puede dividir por cero\")\n",
    "    }\n",
    "    return a / b, nil\n",
    "}\n",
    "\n",
    "func main() {\n",
    "    resultado, err := dividir(10, 0)\n",
    "    if err != nil {\n",
    "        fmt.Println(\"Error:\", err)\n",
    "    } else {\n",
    "        fmt.Println(\"Resultado:\", resultado)\n",
    "    }\n",
    "}\n"
   ]
  },
  {
   "cell_type": "markdown",
   "id": "112e6f75-cb5f-4555-a73d-01aeac324152",
   "metadata": {},
   "source": [
    "# Crear un servidor HTTP básico\n",
    "\n",
    "Go tiene un paquete estándar llamado `net/http` que permite crear servidores web fácilmente.\n",
    "\n",
    "En este ejemplo, construiremos un servidor HTTP que escuche en el puerto `8080` y devuelva un mensaje de saludo en la ruta `/`.\n",
    "\n",
    "### Código:\n",
    "El siguiente código muestra cómo crear y ejecutar el servidor:\n",
    "\n",
    "```go\n",
    "package main\n",
    "\n",
    "import (\n",
    "    \"fmt\"\n",
    "    \"net/http\"\n",
    ")\n",
    "\n",
    "func handler(w http.ResponseWriter, r *http.Request) {\n",
    "    fmt.Fprintln(w, \"¡Bienvenido al servidor HTTP en Go!\")\n",
    "}\n",
    "\n",
    "func main() {\n",
    "    http.HandleFunc(\"/\", handler) // Configura la ruta \"/\"\n",
    "    fmt.Println(\"El servidor está corriendo en http://localhost:8080\")\n",
    "    http.ListenAndServe(\":8080\", nil)\n",
    "}\n"
   ]
  },
  {
   "cell_type": "code",
   "execution_count": null,
   "id": "943040d5-70dd-4d58-a3fc-52c26101471e",
   "metadata": {},
   "outputs": [],
   "source": [
    "go\n",
    "package main\n",
    "\n",
    "import (\n",
    "    \"fmt\"\n",
    "    \"net/http\"\n",
    ")\n",
    "\n",
    "// Manejador para la ruta \"/\"\n",
    "func handler(w http.ResponseWriter, r *http.Request) {\n",
    "    fmt.Fprintln(w, \"¡Bienvenido al servidor HTTP en Go!\")\n",
    "}\n",
    "\n",
    "func main() {\n",
    "    // Configurar la ruta \"/\"\n",
    "    http.HandleFunc(\"/\", handler)\n",
    "    fmt.Println(\"El servidor está corriendo en http://localhost:8080\")\n",
    "\n",
    "    // Iniciar el servidor en el puerto 8080\n",
    "    http.ListenAndServe(\":8080\", nil)\n",
    "}\n"
   ]
  },
  {
   "cell_type": "markdown",
   "id": "8bfc5dc0-049d-4a6f-ad44-52ac64d61449",
   "metadata": {},
   "source": [
    "## Análisis del servidor HTTP\n",
    "\n",
    "### Ventajas del paquete `net/http`:\n",
    "- No necesitas instalar dependencias externas, ya que es parte de la biblioteca estándar de Go.\n",
    "- Es fácil de usar para construir aplicaciones web simples.\n",
    "\n",
    "### Posibilidades de expansión:\n",
    "1. **Añadir más rutas:**\n",
    "   Puedes agregar más rutas usando `http.HandleFunc` para diferentes funcionalidades. Ejemplo:\n",
    "   ```go\n",
    "   http.HandleFunc(\"/about\", func(w http.ResponseWriter, r *http.Request) {\n",
    "       fmt.Fprintln(w, \"Acerca de nosotros\")\n",
    "   })\n"
   ]
  },
  {
   "cell_type": "code",
   "execution_count": null,
   "id": "3d116405-7ec9-444d-92aa-84c37bd03f3a",
   "metadata": {},
   "outputs": [],
   "source": [
    "go\n",
    "package main\n",
    "\n",
    "import (\n",
    "    \"fmt\"\n",
    "    \"net/http\"\n",
    "    \"time\"\n",
    ")\n",
    "\n",
    "func timeHandler(w http.ResponseWriter, r *http.Request) {\n",
    "    currentTime := time.Now().Format(\"15:04:05\")\n",
    "    fmt.Fprintf(w, \"La hora actual es: %s\", currentTime)\n",
    "}\n",
    "\n",
    "func greetHandler(w http.ResponseWriter, r *http.Request) {\n",
    "    name := r.URL.Query().Get(\"name\")\n",
    "    if name == \"\" {\n",
    "        name = \"visitante\"\n",
    "    }\n",
    "    fmt.Fprintf(w, \"¡Hola, %s! Bienvenido a nuestro servidor.\", name)\n",
    "}\n",
    "\n",
    "func main() {\n",
    "    http.HandleFunc(\"/time\", timeHandler)\n",
    "    http.HandleFunc(\"/greet\", greetHandler)\n",
    "    fmt.Println(\"El servidor está corriendo en http://localhost:8080\")\n",
    "    http.ListenAndServe(\":8080\", nil)\n",
    "}"
   ]
  },
  {
   "cell_type": "markdown",
   "id": "8b6d373c-a1bb-433b-afb2-ee37377849e7",
   "metadata": {},
   "source": [
    "---\n",
    "\n",
    "### **8. Buenas Prácticas**\n",
    "#### Contenido sugerido:\n",
    "- Sigue el formato de código con `gofmt`.\n",
    "- Usa nombres significativos para variables y funciones.\n",
    "- Documenta tu código con comentarios.\n",
    "- Evita funciones largas y realiza separación lógica.\n",
    "\n",
    "---\n",
    "\n",
    "### **9. Recursos Adicionales**\n",
    "#### Contenido sugerido:\n",
    "- Documentación oficial de Go: [https://golang.org/doc/](https://golang.org/doc/).\n",
    "- Libros recomendados como *\"The Go Programming Language\"*.\n",
    "- Cursos y tutoriales en línea (Codecademy, Coursera, etc.).\n",
    "\n",
    "---"
   ]
  }
 ],
 "metadata": {
  "kernelspec": {
   "display_name": "Go",
   "language": "go",
   "name": "gophernotes"
  },
  "language_info": {
   "name": ""
  }
 },
 "nbformat": 4,
 "nbformat_minor": 5
}
